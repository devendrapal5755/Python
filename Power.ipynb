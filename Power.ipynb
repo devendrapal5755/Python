{
 "cells": [
  {
   "cell_type": "code",
   "execution_count": 1,
   "metadata": {},
   "outputs": [],
   "source": [
    "import numpy as np\n",
    "import pandas as pd\n",
    "from sklearn.preprocessing import Imputer\n",
    "import matplotlib.pyplot as plt\n",
    "import seaborn as sns"
   ]
  },
  {
   "cell_type": "code",
   "execution_count": 2,
   "metadata": {},
   "outputs": [],
   "source": [
    "# Loadind the data from power_actual file, weather_actual file & weather_forcast file \n",
    "\n",
    "pow_act = pd.read_csv('C:\\\\Users\\\\Pratap\\\\Desktop\\\\New folder\\\\power_actual.csv')\n",
    "wea_act = pd.read_csv('C:\\\\Users\\\\Pratap\\\\Desktop\\\\New folder\\\\weather_actuals.csv')\n",
    "wea_for = pd.read_csv('C:\\\\Users\\\\Pratap\\\\Desktop\\\\New folder\\\\weather_forecast.csv')"
   ]
  },
  {
   "cell_type": "code",
   "execution_count": 3,
   "metadata": {},
   "outputs": [
    {
     "data": {
      "text/plain": [
       "(70080, 5)"
      ]
     },
     "execution_count": 3,
     "metadata": {},
     "output_type": "execute_result"
    }
   ],
   "source": [
    "pow_act.shape"
   ]
  },
  {
   "cell_type": "code",
   "execution_count": 4,
   "metadata": {},
   "outputs": [
    {
     "data": {
      "text/plain": [
       "(13619, 31)"
      ]
     },
     "execution_count": 4,
     "metadata": {},
     "output_type": "execute_result"
    }
   ],
   "source": [
    "wea_act.shape"
   ]
  },
  {
   "cell_type": "code",
   "execution_count": 5,
   "metadata": {},
   "outputs": [
    {
     "data": {
      "text/plain": [
       "(648, 31)"
      ]
     },
     "execution_count": 5,
     "metadata": {},
     "output_type": "execute_result"
    }
   ],
   "source": [
    "wea_for.shape"
   ]
  },
  {
   "cell_type": "markdown",
   "metadata": {},
   "source": [
    "# Distribute the given data into train and test data"
   ]
  },
  {
   "cell_type": "code",
   "execution_count": 6,
   "metadata": {},
   "outputs": [
    {
     "data": {
      "text/plain": [
       "(70080, 36)"
      ]
     },
     "execution_count": 6,
     "metadata": {},
     "output_type": "execute_result"
    }
   ],
   "source": [
    "train_data = pd.concat([pow_act,wea_act],axis=1)\n",
    "train_data.shape"
   ]
  },
  {
   "cell_type": "code",
   "execution_count": 7,
   "metadata": {},
   "outputs": [
    {
     "data": {
      "text/html": [
       "<div>\n",
       "<style scoped>\n",
       "    .dataframe tbody tr th:only-of-type {\n",
       "        vertical-align: middle;\n",
       "    }\n",
       "\n",
       "    .dataframe tbody tr th {\n",
       "        vertical-align: top;\n",
       "    }\n",
       "\n",
       "    .dataframe thead th {\n",
       "        text-align: right;\n",
       "    }\n",
       "</style>\n",
       "<table border=\"1\" class=\"dataframe\">\n",
       "  <thead>\n",
       "    <tr style=\"text-align: right;\">\n",
       "      <th></th>\n",
       "      <th>Unnamed: 0</th>\n",
       "      <th>datetime</th>\n",
       "      <th>ghi</th>\n",
       "      <th>gti</th>\n",
       "      <th>power</th>\n",
       "      <th>Unnamed: 0</th>\n",
       "      <th>plant_id</th>\n",
       "      <th>datetime_utc</th>\n",
       "      <th>datetime_local</th>\n",
       "      <th>cloud_cover</th>\n",
       "      <th>...</th>\n",
       "      <th>precip_accumulation</th>\n",
       "      <th>precip_intensity</th>\n",
       "      <th>precip_probability</th>\n",
       "      <th>precip_type</th>\n",
       "      <th>visibility</th>\n",
       "      <th>sunrise</th>\n",
       "      <th>sunset</th>\n",
       "      <th>icon</th>\n",
       "      <th>summary</th>\n",
       "      <th>updated_at</th>\n",
       "    </tr>\n",
       "  </thead>\n",
       "  <tbody>\n",
       "    <tr>\n",
       "      <td>0</td>\n",
       "      <td>0</td>\n",
       "      <td>2017-10-01 00:00:00</td>\n",
       "      <td>0.0</td>\n",
       "      <td>0.0</td>\n",
       "      <td>0.0</td>\n",
       "      <td>0.0</td>\n",
       "      <td>1.0</td>\n",
       "      <td>2017-09-30 18:30:00</td>\n",
       "      <td>2017-10-01 00:00:00</td>\n",
       "      <td>0.0</td>\n",
       "      <td>...</td>\n",
       "      <td>-9999.0</td>\n",
       "      <td>-9999.0</td>\n",
       "      <td>-9999.0</td>\n",
       "      <td>rain</td>\n",
       "      <td>3.57</td>\n",
       "      <td>2017-10-01 00:52:02</td>\n",
       "      <td>2017-10-01 12:45:07</td>\n",
       "      <td>clear-night</td>\n",
       "      <td>Clear</td>\n",
       "      <td>2019-07-16 16:37:16</td>\n",
       "    </tr>\n",
       "    <tr>\n",
       "      <td>1</td>\n",
       "      <td>1</td>\n",
       "      <td>2017-10-01 00:15:00</td>\n",
       "      <td>0.0</td>\n",
       "      <td>0.0</td>\n",
       "      <td>0.0</td>\n",
       "      <td>1.0</td>\n",
       "      <td>1.0</td>\n",
       "      <td>2017-09-30 19:30:00</td>\n",
       "      <td>2017-10-01 01:00:00</td>\n",
       "      <td>0.0</td>\n",
       "      <td>...</td>\n",
       "      <td>-9999.0</td>\n",
       "      <td>-9999.0</td>\n",
       "      <td>-9999.0</td>\n",
       "      <td>rain</td>\n",
       "      <td>3.06</td>\n",
       "      <td>2017-10-01 00:52:02</td>\n",
       "      <td>2017-10-01 12:45:07</td>\n",
       "      <td>fog</td>\n",
       "      <td>Foggy</td>\n",
       "      <td>2019-07-16 16:37:16</td>\n",
       "    </tr>\n",
       "    <tr>\n",
       "      <td>2</td>\n",
       "      <td>2</td>\n",
       "      <td>2017-10-01 00:30:00</td>\n",
       "      <td>0.0</td>\n",
       "      <td>0.0</td>\n",
       "      <td>0.0</td>\n",
       "      <td>2.0</td>\n",
       "      <td>1.0</td>\n",
       "      <td>2017-09-30 20:30:00</td>\n",
       "      <td>2017-10-01 02:00:00</td>\n",
       "      <td>0.0</td>\n",
       "      <td>...</td>\n",
       "      <td>-9999.0</td>\n",
       "      <td>-9999.0</td>\n",
       "      <td>-9999.0</td>\n",
       "      <td>rain</td>\n",
       "      <td>3.06</td>\n",
       "      <td>2017-10-01 00:52:02</td>\n",
       "      <td>2017-10-01 12:45:07</td>\n",
       "      <td>fog</td>\n",
       "      <td>Foggy</td>\n",
       "      <td>2019-07-16 16:37:16</td>\n",
       "    </tr>\n",
       "    <tr>\n",
       "      <td>3</td>\n",
       "      <td>3</td>\n",
       "      <td>2017-10-01 00:45:00</td>\n",
       "      <td>0.0</td>\n",
       "      <td>0.0</td>\n",
       "      <td>0.0</td>\n",
       "      <td>3.0</td>\n",
       "      <td>1.0</td>\n",
       "      <td>2017-09-30 21:30:00</td>\n",
       "      <td>2017-10-01 03:00:00</td>\n",
       "      <td>0.0</td>\n",
       "      <td>...</td>\n",
       "      <td>-9999.0</td>\n",
       "      <td>-9999.0</td>\n",
       "      <td>-9999.0</td>\n",
       "      <td>rain</td>\n",
       "      <td>3.56</td>\n",
       "      <td>2017-10-01 00:52:02</td>\n",
       "      <td>2017-10-01 12:45:07</td>\n",
       "      <td>clear-night</td>\n",
       "      <td>Clear</td>\n",
       "      <td>2019-07-16 16:37:16</td>\n",
       "    </tr>\n",
       "    <tr>\n",
       "      <td>4</td>\n",
       "      <td>4</td>\n",
       "      <td>2017-10-01 01:00:00</td>\n",
       "      <td>0.0</td>\n",
       "      <td>0.0</td>\n",
       "      <td>0.0</td>\n",
       "      <td>4.0</td>\n",
       "      <td>1.0</td>\n",
       "      <td>2017-09-30 22:30:00</td>\n",
       "      <td>2017-10-01 04:00:00</td>\n",
       "      <td>0.0</td>\n",
       "      <td>...</td>\n",
       "      <td>-9999.0</td>\n",
       "      <td>-9999.0</td>\n",
       "      <td>-9999.0</td>\n",
       "      <td>rain</td>\n",
       "      <td>3.06</td>\n",
       "      <td>2017-10-01 00:52:02</td>\n",
       "      <td>2017-10-01 12:45:07</td>\n",
       "      <td>fog</td>\n",
       "      <td>Foggy</td>\n",
       "      <td>2019-07-16 16:37:16</td>\n",
       "    </tr>\n",
       "  </tbody>\n",
       "</table>\n",
       "<p>5 rows × 36 columns</p>\n",
       "</div>"
      ],
      "text/plain": [
       "   Unnamed: 0             datetime  ghi  gti  power  Unnamed: 0  plant_id  \\\n",
       "0           0  2017-10-01 00:00:00  0.0  0.0    0.0         0.0       1.0   \n",
       "1           1  2017-10-01 00:15:00  0.0  0.0    0.0         1.0       1.0   \n",
       "2           2  2017-10-01 00:30:00  0.0  0.0    0.0         2.0       1.0   \n",
       "3           3  2017-10-01 00:45:00  0.0  0.0    0.0         3.0       1.0   \n",
       "4           4  2017-10-01 01:00:00  0.0  0.0    0.0         4.0       1.0   \n",
       "\n",
       "          datetime_utc       datetime_local  cloud_cover  ...  \\\n",
       "0  2017-09-30 18:30:00  2017-10-01 00:00:00          0.0  ...   \n",
       "1  2017-09-30 19:30:00  2017-10-01 01:00:00          0.0  ...   \n",
       "2  2017-09-30 20:30:00  2017-10-01 02:00:00          0.0  ...   \n",
       "3  2017-09-30 21:30:00  2017-10-01 03:00:00          0.0  ...   \n",
       "4  2017-09-30 22:30:00  2017-10-01 04:00:00          0.0  ...   \n",
       "\n",
       "   precip_accumulation  precip_intensity  precip_probability  precip_type  \\\n",
       "0              -9999.0           -9999.0             -9999.0         rain   \n",
       "1              -9999.0           -9999.0             -9999.0         rain   \n",
       "2              -9999.0           -9999.0             -9999.0         rain   \n",
       "3              -9999.0           -9999.0             -9999.0         rain   \n",
       "4              -9999.0           -9999.0             -9999.0         rain   \n",
       "\n",
       "   visibility              sunrise               sunset         icon  summary  \\\n",
       "0        3.57  2017-10-01 00:52:02  2017-10-01 12:45:07  clear-night    Clear   \n",
       "1        3.06  2017-10-01 00:52:02  2017-10-01 12:45:07          fog    Foggy   \n",
       "2        3.06  2017-10-01 00:52:02  2017-10-01 12:45:07          fog    Foggy   \n",
       "3        3.56  2017-10-01 00:52:02  2017-10-01 12:45:07  clear-night    Clear   \n",
       "4        3.06  2017-10-01 00:52:02  2017-10-01 12:45:07          fog    Foggy   \n",
       "\n",
       "            updated_at  \n",
       "0  2019-07-16 16:37:16  \n",
       "1  2019-07-16 16:37:16  \n",
       "2  2019-07-16 16:37:16  \n",
       "3  2019-07-16 16:37:16  \n",
       "4  2019-07-16 16:37:16  \n",
       "\n",
       "[5 rows x 36 columns]"
      ]
     },
     "execution_count": 7,
     "metadata": {},
     "output_type": "execute_result"
    }
   ],
   "source": [
    "train_data.head(5)"
   ]
  },
  {
   "cell_type": "code",
   "execution_count": 8,
   "metadata": {},
   "outputs": [],
   "source": [
    "train_data = train_data.drop('Unnamed: 0',1)"
   ]
  },
  {
   "cell_type": "code",
   "execution_count": 9,
   "metadata": {},
   "outputs": [
    {
     "name": "stdout",
     "output_type": "stream",
     "text": [
      "                      total_missing_values_per_row  percentage\n",
      "apparent_temperature                         56461   80.566495\n",
      "cloud_cover                                  56461   80.566495\n",
      "datetime                                         0    0.000000\n",
      "datetime_local                               56461   80.566495\n",
      "datetime_utc                                 56461   80.566495\n",
      "dew_point                                    56461   80.566495\n",
      "fctcode                                      66336   94.657534\n",
      "ghi                                          35040   50.000000\n",
      "gti                                          35040   50.000000\n",
      "heat_index                                   66336   94.657534\n",
      "humidity                                     56461   80.566495\n",
      "icon                                         56461   80.566495\n",
      "ozone                                        56461   80.566495\n",
      "plant_id                                     56461   80.566495\n",
      "pop                                          66336   94.657534\n",
      "power                                            0    0.000000\n",
      "precip_accumulation                          66336   94.657534\n",
      "precip_intensity                             56461   80.566495\n",
      "precip_probability                           56461   80.566495\n",
      "precip_type                                  63590   90.739155\n",
      "pressure                                     56461   80.566495\n",
      "qpf                                          66336   94.657534\n",
      "snow                                         66336   94.657534\n",
      "summary                                      56461   80.566495\n",
      "sunrise                                      56461   80.566495\n",
      "sunset                                       56461   80.566495\n",
      "temperature                                  56461   80.566495\n",
      "updated_at                                   56461   80.566495\n",
      "uv_index                                     56461   80.566495\n",
      "visibility                                   56461   80.566495\n",
      "wind_bearing                                 56461   80.566495\n",
      "wind_chill                                   66336   94.657534\n",
      "wind_gust                                    56461   80.566495\n",
      "wind_speed                                   56461   80.566495\n"
     ]
    },
    {
     "name": "stderr",
     "output_type": "stream",
     "text": [
      "C:\\Users\\Pratap\\Anaconda3\\lib\\site-packages\\ipykernel_launcher.py:5: FutureWarning: Sorting because non-concatenation axis is not aligned. A future version\n",
      "of pandas will change to not sort by default.\n",
      "\n",
      "To accept the future behavior, pass 'sort=False'.\n",
      "\n",
      "To retain the current behavior and silence the warning, pass 'sort=True'.\n",
      "\n",
      "  \"\"\"\n"
     ]
    }
   ],
   "source": [
    "# finding the null values and its percentage and then concat both\n",
    "\n",
    "total=train_data.isnull().sum().sort_values(ascending=False)\n",
    "percentage = (total*100/train_data.isnull().count()).sort_values(ascending=False)\n",
    "missing_data = pd.concat([total,percentage],axis=1,keys=['total_missing_values_per_row','percentage'])\n",
    "print(missing_data)"
   ]
  },
  {
   "cell_type": "code",
   "execution_count": 10,
   "metadata": {},
   "outputs": [
    {
     "data": {
      "image/png": "[encoded data removed]",
      "text/plain": [
       "<Figure size 432x288 with 1 Axes>"
      ]
     },
     "metadata": {
      "needs_background": "light"
     },
     "output_type": "display_data"
    }
   ],
   "source": [
    "# Outlier Detection for power column\n",
    "import matplotlib.pyplot as plt\n",
    "import seaborn as sns\n",
    "\n",
    "boxplot = train_data.boxplot(column='power')"
   ]
  },
  {
   "cell_type": "code",
   "execution_count": null,
   "metadata": {},
   "outputs": [],
   "source": []
  },
  {
   "cell_type": "code",
   "execution_count": 11,
   "metadata": {},
   "outputs": [],
   "source": [
    "cols = ['snow','wind_chill','pop','fctcode','heat_index','precip_accumulation','qpf','precip_type','humidity','summary','uv_index','icon']\n",
    "#for col in cols:\n",
    "    #train_data[cols] = mode_imputer.fit_transform(train_data[[col]].values)\n",
    "train_data[cols]=train_data[cols].fillna(train_data[cols].mode().iloc[0])"
   ]
  },
  {
   "cell_type": "code",
   "execution_count": 12,
   "metadata": {},
   "outputs": [
    {
     "data": {
      "text/plain": [
       "0"
      ]
     },
     "execution_count": 12,
     "metadata": {},
     "output_type": "execute_result"
    }
   ],
   "source": [
    "train_data['humidity'].isnull().sum()"
   ]
  },
  {
   "cell_type": "code",
   "execution_count": 13,
   "metadata": {},
   "outputs": [
    {
     "name": "stdout",
     "output_type": "stream",
     "text": [
      "ghi                       0.000\n",
      "gti                       0.000\n",
      "power                     5.540\n",
      "plant_id                  0.000\n",
      "cloud_cover               0.410\n",
      "apparent_temperature     17.270\n",
      "temperature              14.000\n",
      "humidity                  0.000\n",
      "dew_point                13.750\n",
      "wind_bearing            214.000\n",
      "wind_speed                1.710\n",
      "wind_chill                0.000\n",
      "wind_gust                 3.525\n",
      "heat_index                0.000\n",
      "pressure                 15.990\n",
      "qpf                       0.000\n",
      "uv_index                  0.000\n",
      "snow                      0.000\n",
      "pop                       0.000\n",
      "fctcode                   0.000\n",
      "ozone                    43.900\n",
      "precip_accumulation       0.000\n",
      "precip_intensity          0.000\n",
      "precip_probability        0.000\n",
      "visibility               12.550\n",
      "dtype: float64\n"
     ]
    }
   ],
   "source": [
    "Q1 = train_data.quantile(0.25)\n",
    "Q3 = train_data.quantile(0.75)\n",
    "IQR = Q3 - Q1\n",
    "print(IQR)"
   ]
  },
  {
   "cell_type": "code",
   "execution_count": 14,
   "metadata": {},
   "outputs": [
    {
     "name": "stdout",
     "output_type": "stream",
     "text": [
      "-3.4383482774832568\n"
     ]
    },
    {
     "data": {
      "image/png": "[encoded data removed]",
      "text/plain": [
       "<Figure size 432x288 with 1 Axes>"
      ]
     },
     "metadata": {
      "needs_background": "light"
     },
     "output_type": "display_data"
    }
   ],
   "source": [
    "print(train_data['wind_bearing'].skew())\n",
    "train_data['wind_bearing'].describe()\n",
    "boxplot = train_data.boxplot(column='wind_bearing')\n",
    "plt.show()"
   ]
  },
  {
   "cell_type": "code",
   "execution_count": 15,
   "metadata": {},
   "outputs": [
    {
     "name": "stdout",
     "output_type": "stream",
     "text": [
      "14.0\n",
      "327.0\n"
     ]
    }
   ],
   "source": [
    "# tratment on outliers of wind_bearing\n",
    "print(train_data['wind_bearing'].quantile(0.10))\n",
    "print(train_data['wind_bearing'].quantile(0.90))"
   ]
  },
  {
   "cell_type": "code",
   "execution_count": 16,
   "metadata": {},
   "outputs": [
    {
     "name": "stdout",
     "output_type": "stream",
     "text": [
      "0.013400547195342413\n"
     ]
    }
   ],
   "source": [
    "train_data['wind_bearing'] = np.where(train_data['wind_bearing'] <14.0,14.0,train_data['wind_bearing'])\n",
    "train_data['wind_bearing'] = np.where(train_data['wind_bearing'] >327.0, 327.0,train_data['wind_bearing'])\n",
    "print(train_data['wind_bearing'].skew())"
   ]
  },
  {
   "cell_type": "code",
   "execution_count": 17,
   "metadata": {},
   "outputs": [],
   "source": [
    "train_data['wind_bearing']=train_data['wind_bearing'].fillna(train_data['wind_bearing'].median())"
   ]
  },
  {
   "cell_type": "code",
   "execution_count": 18,
   "metadata": {},
   "outputs": [],
   "source": [
    "# filling missing values of train data with mean value\n",
    "cols1 = ['wind_speed','cloud_cover','apparent_temperature','visibility','precip_probability','wind_gust','ozone','temperature','dew_point','pressure','precip_intensity']\n",
    "train_data[cols1]=train_data[cols1].fillna(train_data[cols].median().iloc[0])"
   ]
  },
  {
   "cell_type": "code",
   "execution_count": 19,
   "metadata": {},
   "outputs": [
    {
     "data": {
      "text/plain": [
       "datetime                    0\n",
       "ghi                     35040\n",
       "gti                     35040\n",
       "power                       0\n",
       "plant_id                56461\n",
       "datetime_utc            56461\n",
       "datetime_local          56461\n",
       "cloud_cover                 0\n",
       "apparent_temperature        0\n",
       "temperature                 0\n",
       "humidity                    0\n",
       "dew_point                   0\n",
       "wind_bearing                0\n",
       "wind_speed                  0\n",
       "wind_chill                  0\n",
       "wind_gust                   0\n",
       "heat_index                  0\n",
       "pressure                    0\n",
       "qpf                         0\n",
       "uv_index                    0\n",
       "snow                        0\n",
       "pop                         0\n",
       "fctcode                     0\n",
       "ozone                       0\n",
       "precip_accumulation         0\n",
       "precip_intensity            0\n",
       "precip_probability          0\n",
       "precip_type                 0\n",
       "visibility                  0\n",
       "sunrise                 56461\n",
       "sunset                  56461\n",
       "icon                        0\n",
       "summary                     0\n",
       "updated_at              56461\n",
       "dtype: int64"
      ]
     },
     "execution_count": 19,
     "metadata": {},
     "output_type": "execute_result"
    }
   ],
   "source": [
    "train_data.isnull().sum()"
   ]
  },
  {
   "cell_type": "code",
   "execution_count": 20,
   "metadata": {},
   "outputs": [
    {
     "name": "stdout",
     "output_type": "stream",
     "text": [
      "13619    2018-02-19 20:45:00\n",
      "13620    2018-02-19 21:00:00\n",
      "13621    2018-02-19 21:15:00\n",
      "13622    2018-02-19 21:30:00\n",
      "13623    2018-02-19 21:45:00\n",
      "                ...         \n",
      "70075    2019-09-30 22:45:00\n",
      "70076    2019-09-30 23:00:00\n",
      "70077    2019-09-30 23:15:00\n",
      "70078    2019-09-30 23:30:00\n",
      "70079    2019-09-30 23:45:00\n",
      "Name: datetime_local, Length: 56461, dtype: object\n"
     ]
    }
   ],
   "source": [
    "# copy the date from datetime column to datetime_local\n",
    "a = train_data['datetime'].iloc[13619:]\n",
    "train_data['datetime_local'] = train_data['datetime_local'].fillna(a)\n",
    "print(train_data['datetime_local'].iloc[13619:])\n",
    "train_data['sunrise'] = train_data['sunrise'].fillna(a)\n",
    "train_data['sunset'] = train_data['sunset'].fillna(a)"
   ]
  },
  {
   "cell_type": "code",
   "execution_count": 21,
   "metadata": {},
   "outputs": [],
   "source": [
    "train_data['datetime_local']=pd.to_datetime(train_data['datetime_local'],format='%Y-%m-%d  %H:%M:%S')\n",
    "\n",
    "train_data['datetime_local_year']=train_data['datetime_local'].dt.year\n",
    "train_data['datetime_local_month']=train_data['datetime_local'].dt.month\n",
    "train_data['datetime_local_day']=train_data['datetime_local'].dt.day\n",
    "\n",
    "\n",
    "# distribute the sunrise column into month and year\n",
    "train_data['sunrise']=pd.to_datetime(train_data['sunrise'],format='%Y-%m-%d  %H:%M:%S')\n",
    "\n",
    "train_data['sunrise_year']=train_data['sunrise'].dt.year\n",
    "train_data['sunrise_month']=train_data['sunrise'].dt.month\n",
    "train_data['sunrise_day']=train_data['sunrise'].dt.day\n",
    "train_data['sunrise_hour']=train_data['sunrise'].dt.hour\n",
    "train_data['sunrise_minute']=train_data['sunrise'].dt.minute\n",
    "train_data['sunrise_second']=train_data['sunrise'].dt.second\n",
    "\n",
    "# distribute the sunset column into month and year\n",
    "train_data['sunset']=pd.to_datetime(train_data['sunset'],format='%Y-%m-%d  %H:%M:%S')\n",
    "\n",
    "train_data['sunset_year']=train_data['sunset'].dt.year\n",
    "train_data['sunset_month']=train_data['sunset'].dt.month\n",
    "train_data['sunset_day']=train_data['sunset'].dt.day\n",
    "train_data['sunset_hour']=train_data['sunset'].dt.hour\n",
    "train_data['sunset_minute']=train_data['sunset'].dt.minute\n",
    "train_data['sunset_second']=train_data['sunset'].dt.second"
   ]
  },
  {
   "cell_type": "code",
   "execution_count": 22,
   "metadata": {},
   "outputs": [],
   "source": [
    "# Droping the dates column\n",
    "train_data = train_data.drop(['datetime','datetime_local','datetime_utc','sunrise','sunset','updated_at','ghi','gti','plant_id'],1)"
   ]
  },
  {
   "cell_type": "code",
   "execution_count": 23,
   "metadata": {},
   "outputs": [
    {
     "data": {
      "text/plain": [
       "power                   0\n",
       "cloud_cover             0\n",
       "apparent_temperature    0\n",
       "temperature             0\n",
       "humidity                0\n",
       "dew_point               0\n",
       "wind_bearing            0\n",
       "wind_speed              0\n",
       "wind_chill              0\n",
       "wind_gust               0\n",
       "heat_index              0\n",
       "pressure                0\n",
       "qpf                     0\n",
       "uv_index                0\n",
       "snow                    0\n",
       "pop                     0\n",
       "fctcode                 0\n",
       "ozone                   0\n",
       "precip_accumulation     0\n",
       "precip_intensity        0\n",
       "precip_probability      0\n",
       "precip_type             0\n",
       "visibility              0\n",
       "icon                    0\n",
       "summary                 0\n",
       "datetime_local_year     0\n",
       "datetime_local_month    0\n",
       "datetime_local_day      0\n",
       "sunrise_year            0\n",
       "sunrise_month           0\n",
       "sunrise_day             0\n",
       "sunrise_hour            0\n",
       "sunrise_minute          0\n",
       "sunrise_second          0\n",
       "sunset_year             0\n",
       "sunset_month            0\n",
       "sunset_day              0\n",
       "sunset_hour             0\n",
       "sunset_minute           0\n",
       "sunset_second           0\n",
       "dtype: int64"
      ]
     },
     "execution_count": 23,
     "metadata": {},
     "output_type": "execute_result"
    }
   ],
   "source": [
    "train_data.isnull().sum()"
   ]
  },
  {
   "cell_type": "code",
   "execution_count": 24,
   "metadata": {},
   "outputs": [
    {
     "data": {
      "text/plain": [
       "(70080, 40)"
      ]
     },
     "execution_count": 24,
     "metadata": {},
     "output_type": "execute_result"
    }
   ],
   "source": [
    "train_data.shape"
   ]
  },
  {
   "cell_type": "code",
   "execution_count": 25,
   "metadata": {},
   "outputs": [],
   "source": [
    "data1 = pd.get_dummies(data=train_data,columns=['icon','summary','precip_type'])"
   ]
  },
  {
   "cell_type": "code",
   "execution_count": 26,
   "metadata": {},
   "outputs": [
    {
     "data": {
      "text/plain": [
       "(70080, 66)"
      ]
     },
     "execution_count": 26,
     "metadata": {},
     "output_type": "execute_result"
    }
   ],
   "source": [
    "data1.shape"
   ]
  },
  {
   "cell_type": "markdown",
   "metadata": {},
   "source": [
    "Split the data1_train data into train and test data"
   ]
  },
  {
   "cell_type": "code",
   "execution_count": 27,
   "metadata": {},
   "outputs": [],
   "source": [
    "from sklearn.model_selection import train_test_split\n",
    "# Split the data into trainning and testing data\n",
    "X = data1.drop('power',1)\n",
    "y = data1['power']\n",
    "X_train,X_test,y_train,y_test = train_test_split(X,y,test_size=0.3,random_state=42)"
   ]
  },
  {
   "cell_type": "code",
   "execution_count": 28,
   "metadata": {},
   "outputs": [
    {
     "name": "stderr",
     "output_type": "stream",
     "text": [
      "C:\\Users\\Pratap\\Anaconda3\\lib\\site-packages\\sklearn\\ensemble\\forest.py:245: FutureWarning: The default value of n_estimators will change from 10 in version 0.20 to 100 in 0.22.\n",
      "  \"10 in version 0.20 to 100 in 0.22.\", FutureWarning)\n"
     ]
    }
   ],
   "source": [
    "from sklearn.ensemble import RandomForestRegressor\n",
    "\n",
    "# Initialize the model\n",
    "rf_clf = RandomForestRegressor(random_state=0)\n",
    "\n",
    "# Fit the model on train data\n",
    "rf_clf.fit(X_train,y_train)\n",
    "\n",
    "# predict on test data\n",
    "y_pred = rf_clf.predict(X_test)"
   ]
  },
  {
   "cell_type": "code",
   "execution_count": 29,
   "metadata": {},
   "outputs": [
    {
     "name": "stdout",
     "output_type": "stream",
     "text": [
      "Training score: 0.98 \n"
     ]
    }
   ],
   "source": [
    "train_acc = rf_clf.score(X_train,y_train)\n",
    "print(\"Training score: %.2f \" % train_acc)"
   ]
  },
  {
   "cell_type": "code",
   "execution_count": 30,
   "metadata": {},
   "outputs": [
    {
     "name": "stdout",
     "output_type": "stream",
     "text": [
      "Testing score: 0.91 \n"
     ]
    }
   ],
   "source": [
    "# accuarcy of the model on test data\n",
    "test_acc = rf_clf.score(X_test,y_test)\n",
    "print(\"Testing score: %.2f \" % test_acc)"
   ]
  },
  {
   "cell_type": "code",
   "execution_count": 31,
   "metadata": {},
   "outputs": [
    {
     "name": "stdout",
     "output_type": "stream",
     "text": [
      "Mean Absolute Error :  8.256441027032881\n"
     ]
    }
   ],
   "source": [
    "from sklearn.metrics import mean_absolute_error\n",
    "# MAE calculation\n",
    "mae = mean_absolute_error(y_test,y_pred)\n",
    "print('Mean Absolute Error : ',mae)"
   ]
  },
  {
   "cell_type": "code",
   "execution_count": 32,
   "metadata": {},
   "outputs": [
    {
     "name": "stdout",
     "output_type": "stream",
     "text": [
      "Root Mean Squared Error :  156.47321930922945\n"
     ]
    }
   ],
   "source": [
    "from sklearn.metrics import mean_squared_error\n",
    "\n",
    "# Code starts here\n",
    "mse = mean_squared_error(y_test,y_pred)\n",
    "rmse = np.sqrt(mse)\n",
    "print('Root Mean Squared Error : ',rmse)"
   ]
  },
  {
   "cell_type": "code",
   "execution_count": 33,
   "metadata": {},
   "outputs": [
    {
     "name": "stdout",
     "output_type": "stream",
     "text": [
      "R Square : 0.9110404136700367\n"
     ]
    }
   ],
   "source": [
    "from sklearn.metrics import r2_score\n",
    "\n",
    "# Code starts here\n",
    "\n",
    "# R-squared calculation\n",
    "rsquared = r2_score(y_test, y_pred)\n",
    "print('R Square :',rsquared)"
   ]
  },
  {
   "cell_type": "markdown",
   "metadata": {},
   "source": [
    "Test Data"
   ]
  },
  {
   "cell_type": "code",
   "execution_count": 34,
   "metadata": {},
   "outputs": [],
   "source": [
    "test_data = wea_for"
   ]
  },
  {
   "cell_type": "code",
   "execution_count": 35,
   "metadata": {},
   "outputs": [
    {
     "data": {
      "text/html": [
       "<div>\n",
       "<style scoped>\n",
       "    .dataframe tbody tr th:only-of-type {\n",
       "        vertical-align: middle;\n",
       "    }\n",
       "\n",
       "    .dataframe tbody tr th {\n",
       "        vertical-align: top;\n",
       "    }\n",
       "\n",
       "    .dataframe thead th {\n",
       "        text-align: right;\n",
       "    }\n",
       "</style>\n",
       "<table border=\"1\" class=\"dataframe\">\n",
       "  <thead>\n",
       "    <tr style=\"text-align: right;\">\n",
       "      <th></th>\n",
       "      <th>Unnamed: 0</th>\n",
       "      <th>plant_id</th>\n",
       "      <th>datetime_utc</th>\n",
       "      <th>datetime_local</th>\n",
       "      <th>cloud_cover</th>\n",
       "      <th>apparent_temperature</th>\n",
       "      <th>temperature</th>\n",
       "      <th>humidity</th>\n",
       "      <th>dew_point</th>\n",
       "      <th>wind_bearing</th>\n",
       "      <th>...</th>\n",
       "      <th>precip_accumulation</th>\n",
       "      <th>precip_intensity</th>\n",
       "      <th>precip_probability</th>\n",
       "      <th>precip_type</th>\n",
       "      <th>visibility</th>\n",
       "      <th>sunrise</th>\n",
       "      <th>sunset</th>\n",
       "      <th>icon</th>\n",
       "      <th>summary</th>\n",
       "      <th>updated_at</th>\n",
       "    </tr>\n",
       "  </thead>\n",
       "  <tbody>\n",
       "    <tr>\n",
       "      <td>0</td>\n",
       "      <td>0</td>\n",
       "      <td>1</td>\n",
       "      <td>2019-09-30 18:30:00</td>\n",
       "      <td>2019-10-01 00:00:00</td>\n",
       "      <td>0.35</td>\n",
       "      <td>26.41</td>\n",
       "      <td>26</td>\n",
       "      <td>1</td>\n",
       "      <td>22.01</td>\n",
       "      <td>101</td>\n",
       "      <td>...</td>\n",
       "      <td>NaN</td>\n",
       "      <td>0.0</td>\n",
       "      <td>0.0</td>\n",
       "      <td>NaN</td>\n",
       "      <td>16.09</td>\n",
       "      <td>2019-10-01 00:51:47</td>\n",
       "      <td>2019-10-01 12:45:42</td>\n",
       "      <td>partly-cloudy-night</td>\n",
       "      <td>Partly Cloudy</td>\n",
       "      <td>2019-10-02 23:32:38</td>\n",
       "    </tr>\n",
       "    <tr>\n",
       "      <td>1</td>\n",
       "      <td>1</td>\n",
       "      <td>1</td>\n",
       "      <td>2019-09-30 19:30:00</td>\n",
       "      <td>2019-10-01 01:00:00</td>\n",
       "      <td>0.43</td>\n",
       "      <td>25.95</td>\n",
       "      <td>25</td>\n",
       "      <td>1</td>\n",
       "      <td>22.06</td>\n",
       "      <td>105</td>\n",
       "      <td>...</td>\n",
       "      <td>NaN</td>\n",
       "      <td>0.0</td>\n",
       "      <td>0.0</td>\n",
       "      <td>NaN</td>\n",
       "      <td>16.09</td>\n",
       "      <td>2019-10-01 00:51:47</td>\n",
       "      <td>2019-10-01 12:45:42</td>\n",
       "      <td>partly-cloudy-night</td>\n",
       "      <td>Partly Cloudy</td>\n",
       "      <td>2019-10-02 23:32:38</td>\n",
       "    </tr>\n",
       "    <tr>\n",
       "      <td>2</td>\n",
       "      <td>2</td>\n",
       "      <td>1</td>\n",
       "      <td>2019-09-30 20:30:00</td>\n",
       "      <td>2019-10-01 02:00:00</td>\n",
       "      <td>0.48</td>\n",
       "      <td>25.46</td>\n",
       "      <td>25</td>\n",
       "      <td>1</td>\n",
       "      <td>22.06</td>\n",
       "      <td>106</td>\n",
       "      <td>...</td>\n",
       "      <td>NaN</td>\n",
       "      <td>0.0</td>\n",
       "      <td>0.0</td>\n",
       "      <td>NaN</td>\n",
       "      <td>16.09</td>\n",
       "      <td>2019-10-01 00:51:47</td>\n",
       "      <td>2019-10-01 12:45:42</td>\n",
       "      <td>partly-cloudy-night</td>\n",
       "      <td>Partly Cloudy</td>\n",
       "      <td>2019-10-02 23:32:38</td>\n",
       "    </tr>\n",
       "    <tr>\n",
       "      <td>3</td>\n",
       "      <td>3</td>\n",
       "      <td>1</td>\n",
       "      <td>2019-09-30 21:30:00</td>\n",
       "      <td>2019-10-01 03:00:00</td>\n",
       "      <td>0.49</td>\n",
       "      <td>24.80</td>\n",
       "      <td>24</td>\n",
       "      <td>1</td>\n",
       "      <td>21.87</td>\n",
       "      <td>106</td>\n",
       "      <td>...</td>\n",
       "      <td>NaN</td>\n",
       "      <td>0.0</td>\n",
       "      <td>0.0</td>\n",
       "      <td>NaN</td>\n",
       "      <td>16.09</td>\n",
       "      <td>2019-10-01 00:51:47</td>\n",
       "      <td>2019-10-01 12:45:42</td>\n",
       "      <td>partly-cloudy-night</td>\n",
       "      <td>Partly Cloudy</td>\n",
       "      <td>2019-10-02 23:32:38</td>\n",
       "    </tr>\n",
       "    <tr>\n",
       "      <td>4</td>\n",
       "      <td>4</td>\n",
       "      <td>1</td>\n",
       "      <td>2019-09-30 22:30:00</td>\n",
       "      <td>2019-10-01 04:00:00</td>\n",
       "      <td>0.49</td>\n",
       "      <td>23.99</td>\n",
       "      <td>23</td>\n",
       "      <td>1</td>\n",
       "      <td>21.53</td>\n",
       "      <td>100</td>\n",
       "      <td>...</td>\n",
       "      <td>NaN</td>\n",
       "      <td>0.0</td>\n",
       "      <td>0.0</td>\n",
       "      <td>NaN</td>\n",
       "      <td>16.09</td>\n",
       "      <td>2019-10-01 00:51:47</td>\n",
       "      <td>2019-10-01 12:45:42</td>\n",
       "      <td>partly-cloudy-night</td>\n",
       "      <td>Partly Cloudy</td>\n",
       "      <td>2019-10-02 23:32:38</td>\n",
       "    </tr>\n",
       "  </tbody>\n",
       "</table>\n",
       "<p>5 rows × 31 columns</p>\n",
       "</div>"
      ],
      "text/plain": [
       "   Unnamed: 0  plant_id         datetime_utc       datetime_local  \\\n",
       "0           0         1  2019-09-30 18:30:00  2019-10-01 00:00:00   \n",
       "1           1         1  2019-09-30 19:30:00  2019-10-01 01:00:00   \n",
       "2           2         1  2019-09-30 20:30:00  2019-10-01 02:00:00   \n",
       "3           3         1  2019-09-30 21:30:00  2019-10-01 03:00:00   \n",
       "4           4         1  2019-09-30 22:30:00  2019-10-01 04:00:00   \n",
       "\n",
       "   cloud_cover  apparent_temperature  temperature  humidity  dew_point  \\\n",
       "0         0.35                 26.41           26         1      22.01   \n",
       "1         0.43                 25.95           25         1      22.06   \n",
       "2         0.48                 25.46           25         1      22.06   \n",
       "3         0.49                 24.80           24         1      21.87   \n",
       "4         0.49                 23.99           23         1      21.53   \n",
       "\n",
       "   wind_bearing  ...  precip_accumulation  precip_intensity  \\\n",
       "0           101  ...                  NaN               0.0   \n",
       "1           105  ...                  NaN               0.0   \n",
       "2           106  ...                  NaN               0.0   \n",
       "3           106  ...                  NaN               0.0   \n",
       "4           100  ...                  NaN               0.0   \n",
       "\n",
       "   precip_probability  precip_type  visibility              sunrise  \\\n",
       "0                 0.0          NaN       16.09  2019-10-01 00:51:47   \n",
       "1                 0.0          NaN       16.09  2019-10-01 00:51:47   \n",
       "2                 0.0          NaN       16.09  2019-10-01 00:51:47   \n",
       "3                 0.0          NaN       16.09  2019-10-01 00:51:47   \n",
       "4                 0.0          NaN       16.09  2019-10-01 00:51:47   \n",
       "\n",
       "                sunset                 icon        summary  \\\n",
       "0  2019-10-01 12:45:42  partly-cloudy-night  Partly Cloudy   \n",
       "1  2019-10-01 12:45:42  partly-cloudy-night  Partly Cloudy   \n",
       "2  2019-10-01 12:45:42  partly-cloudy-night  Partly Cloudy   \n",
       "3  2019-10-01 12:45:42  partly-cloudy-night  Partly Cloudy   \n",
       "4  2019-10-01 12:45:42  partly-cloudy-night  Partly Cloudy   \n",
       "\n",
       "            updated_at  \n",
       "0  2019-10-02 23:32:38  \n",
       "1  2019-10-02 23:32:38  \n",
       "2  2019-10-02 23:32:38  \n",
       "3  2019-10-02 23:32:38  \n",
       "4  2019-10-02 23:32:38  \n",
       "\n",
       "[5 rows x 31 columns]"
      ]
     },
     "execution_count": 35,
     "metadata": {},
     "output_type": "execute_result"
    }
   ],
   "source": [
    "test_data.head()"
   ]
  },
  {
   "cell_type": "code",
   "execution_count": 36,
   "metadata": {},
   "outputs": [],
   "source": [
    "test_data = test_data.drop('Unnamed: 0',1)"
   ]
  },
  {
   "cell_type": "code",
   "execution_count": 37,
   "metadata": {},
   "outputs": [
    {
     "name": "stdout",
     "output_type": "stream",
     "text": [
      "                      total_missing_values_per_row  percentage\n",
      "apparent_temperature                             0    0.000000\n",
      "cloud_cover                                      0    0.000000\n",
      "datetime_local                                   0    0.000000\n",
      "datetime_utc                                     0    0.000000\n",
      "dew_point                                        0    0.000000\n",
      "fctcode                                        648  100.000000\n",
      "heat_index                                     648  100.000000\n",
      "humidity                                         0    0.000000\n",
      "icon                                             0    0.000000\n",
      "ozone                                            0    0.000000\n",
      "plant_id                                         0    0.000000\n",
      "pop                                            648  100.000000\n",
      "precip_accumulation                            648  100.000000\n",
      "precip_intensity                                 0    0.000000\n",
      "precip_probability                               0    0.000000\n",
      "precip_type                                    534   82.407407\n",
      "pressure                                         0    0.000000\n",
      "qpf                                            648  100.000000\n",
      "snow                                           648  100.000000\n",
      "summary                                          0    0.000000\n",
      "sunrise                                          0    0.000000\n",
      "sunset                                           0    0.000000\n",
      "temperature                                      0    0.000000\n",
      "updated_at                                       0    0.000000\n",
      "uv_index                                         0    0.000000\n",
      "visibility                                       0    0.000000\n",
      "wind_bearing                                     0    0.000000\n",
      "wind_chill                                     648  100.000000\n",
      "wind_gust                                        0    0.000000\n",
      "wind_speed                                       0    0.000000\n"
     ]
    },
    {
     "name": "stderr",
     "output_type": "stream",
     "text": [
      "C:\\Users\\Pratap\\Anaconda3\\lib\\site-packages\\ipykernel_launcher.py:3: FutureWarning: Sorting because non-concatenation axis is not aligned. A future version\n",
      "of pandas will change to not sort by default.\n",
      "\n",
      "To accept the future behavior, pass 'sort=False'.\n",
      "\n",
      "To retain the current behavior and silence the warning, pass 'sort=True'.\n",
      "\n",
      "  This is separate from the ipykernel package so we can avoid doing imports until\n"
     ]
    }
   ],
   "source": [
    "total=test_data.isnull().sum().sort_values(ascending=False)\n",
    "percentage = (total*100/test_data.isnull().count()).sort_values(ascending=False)\n",
    "missing_data = pd.concat([total,percentage],axis=1,keys=['total_missing_values_per_row','percentage'])\n",
    "print(missing_data)"
   ]
  },
  {
   "cell_type": "code",
   "execution_count": 38,
   "metadata": {},
   "outputs": [],
   "source": [
    "cols11 =['snow','wind_chill','pop','fctcode','heat_index','precip_accumulation','qpf','precip_type','humidity','summary','uv_index','icon']\n",
    "test_data[cols11]=test_data[cols11].fillna(train_data[cols11].mode().iloc[0])"
   ]
  },
  {
   "cell_type": "code",
   "execution_count": 39,
   "metadata": {},
   "outputs": [
    {
     "name": "stdout",
     "output_type": "stream",
     "text": [
      "plant_id                  0.0000\n",
      "cloud_cover               0.1100\n",
      "apparent_temperature      8.1250\n",
      "temperature               8.0000\n",
      "humidity                  1.0000\n",
      "dew_point                 4.5625\n",
      "wind_bearing            221.7500\n",
      "wind_speed                0.9825\n",
      "wind_chill                0.0000\n",
      "wind_gust                 1.6800\n",
      "heat_index                0.0000\n",
      "pressure                  2.5125\n",
      "qpf                       0.0000\n",
      "uv_index                  3.0000\n",
      "snow                      0.0000\n",
      "pop                       0.0000\n",
      "fctcode                   0.0000\n",
      "ozone                     3.3000\n",
      "precip_accumulation       0.0000\n",
      "precip_intensity          0.0000\n",
      "precip_probability        0.0000\n",
      "visibility                0.0000\n",
      "dtype: float64\n"
     ]
    }
   ],
   "source": [
    "Q1 = test_data.quantile(0.25)\n",
    "Q3 = test_data.quantile(0.75)\n",
    "IQR = Q3 - Q1\n",
    "print(IQR)"
   ]
  },
  {
   "cell_type": "code",
   "execution_count": 40,
   "metadata": {},
   "outputs": [
    {
     "data": {
      "image/png": "[encoded data removed]",
      "text/plain": [
       "<Figure size 432x288 with 1 Axes>"
      ]
     },
     "metadata": {
      "needs_background": "light"
     },
     "output_type": "display_data"
    }
   ],
   "source": [
    "test_data['wind_bearing'].describe()\n",
    "boxplot = test_data.boxplot(column='wind_bearing')\n",
    "plt.show()"
   ]
  },
  {
   "cell_type": "code",
   "execution_count": 41,
   "metadata": {},
   "outputs": [
    {
     "name": "stdout",
     "output_type": "stream",
     "text": [
      "18.700000000000003\n",
      "335.0\n"
     ]
    }
   ],
   "source": [
    "print(test_data['wind_bearing'].quantile(0.10))\n",
    "print(test_data['wind_bearing'].quantile(0.90))"
   ]
  },
  {
   "cell_type": "code",
   "execution_count": 42,
   "metadata": {},
   "outputs": [
    {
     "name": "stdout",
     "output_type": "stream",
     "text": [
      "0.6956220453176032\n"
     ]
    }
   ],
   "source": [
    "test_data['wind_bearing'] = np.where(test_data['wind_bearing'] <18.700000000000003,18.700000000000003,test_data['wind_bearing'])\n",
    "test_data['wind_bearing'] = np.where(test_data['wind_bearing'] >335.0, 335.0,test_data['wind_bearing'])\n",
    "print(test_data['wind_bearing'].skew())"
   ]
  },
  {
   "cell_type": "code",
   "execution_count": 43,
   "metadata": {},
   "outputs": [],
   "source": [
    "test_data['wind_bearing']=test_data['wind_bearing'].fillna(test_data['wind_bearing'].median())"
   ]
  },
  {
   "cell_type": "code",
   "execution_count": 44,
   "metadata": {},
   "outputs": [],
   "source": [
    "cols3 = ['wind_speed','cloud_cover','apparent_temperature','visibility','precip_probability','wind_gust','ozone','temperature','dew_point','pressure','precip_intensity']\n",
    "test_data[cols3]=test_data[cols3].fillna(test_data[cols3].median().iloc[0])"
   ]
  },
  {
   "cell_type": "code",
   "execution_count": 45,
   "metadata": {},
   "outputs": [
    {
     "data": {
      "text/plain": [
       "plant_id                0\n",
       "datetime_utc            0\n",
       "datetime_local          0\n",
       "cloud_cover             0\n",
       "apparent_temperature    0\n",
       "temperature             0\n",
       "humidity                0\n",
       "dew_point               0\n",
       "wind_bearing            0\n",
       "wind_speed              0\n",
       "wind_chill              0\n",
       "wind_gust               0\n",
       "heat_index              0\n",
       "pressure                0\n",
       "qpf                     0\n",
       "uv_index                0\n",
       "snow                    0\n",
       "pop                     0\n",
       "fctcode                 0\n",
       "ozone                   0\n",
       "precip_accumulation     0\n",
       "precip_intensity        0\n",
       "precip_probability      0\n",
       "precip_type             0\n",
       "visibility              0\n",
       "sunrise                 0\n",
       "sunset                  0\n",
       "icon                    0\n",
       "summary                 0\n",
       "updated_at              0\n",
       "dtype: int64"
      ]
     },
     "execution_count": 45,
     "metadata": {},
     "output_type": "execute_result"
    }
   ],
   "source": [
    "test_data.isnull().sum()"
   ]
  },
  {
   "cell_type": "code",
   "execution_count": 46,
   "metadata": {},
   "outputs": [],
   "source": [
    "# distribute the datetime_local column into month and year\n",
    "test_data['datetime_local']=pd.to_datetime(test_data['datetime_local'],format='%Y-%m-%d  %H:%M:%S')\n",
    "\n",
    "test_data['datetime_local_year']=test_data['datetime_local'].dt.year\n",
    "test_data['datetime_local_month']=test_data['datetime_local'].dt.month\n",
    "test_data['datetime_local_day']=test_data['datetime_local'].dt.day\n",
    "\n",
    "\n",
    "# distribute the sunrise column into month and year\n",
    "test_data['sunrise']=pd.to_datetime(test_data['sunrise'],format='%Y-%m-%d  %H:%M:%S')\n",
    "\n",
    "test_data['sunrise_year']=test_data['sunrise'].dt.year\n",
    "test_data['sunrise_month']=test_data['sunrise'].dt.month\n",
    "test_data['sunrise_day']=test_data['sunrise'].dt.day\n",
    "test_data['sunrise_hour']=test_data['sunrise'].dt.hour\n",
    "test_data['sunrise_minute']=test_data['sunrise'].dt.minute\n",
    "test_data['sunrise_second']=test_data['sunrise'].dt.second\n",
    "\n",
    "# distribute the sunset column into month and year\n",
    "test_data['sunset']=pd.to_datetime(test_data['sunset'],format='%Y-%m-%d  %H:%M:%S')\n",
    "\n",
    "test_data['sunset_year']=test_data['sunset'].dt.year\n",
    "test_data['sunset_month']=test_data['sunset'].dt.month\n",
    "test_data['sunset_day']=test_data['sunset'].dt.day\n",
    "test_data['sunset_hour']=test_data['sunset'].dt.hour\n",
    "test_data['sunset_minute']=test_data['sunset'].dt.minute\n",
    "test_data['sunset_second']=test_data['sunset'].dt.second"
   ]
  },
  {
   "cell_type": "code",
   "execution_count": 47,
   "metadata": {},
   "outputs": [],
   "source": [
    "test_data = test_data.drop(['datetime_local','datetime_utc','sunrise','sunset','updated_at','plant_id'],1)"
   ]
  },
  {
   "cell_type": "code",
   "execution_count": 48,
   "metadata": {},
   "outputs": [
    {
     "data": {
      "text/plain": [
       "(648, 39)"
      ]
     },
     "execution_count": 48,
     "metadata": {},
     "output_type": "execute_result"
    }
   ],
   "source": [
    "test_data.shape"
   ]
  },
  {
   "cell_type": "code",
   "execution_count": 49,
   "metadata": {},
   "outputs": [],
   "source": [
    "test_data = pd.get_dummies(data=test_data,columns=['icon','summary','precip_type'])"
   ]
  },
  {
   "cell_type": "code",
   "execution_count": 50,
   "metadata": {},
   "outputs": [
    {
     "data": {
      "text/plain": [
       "(648, 47)"
      ]
     },
     "execution_count": 50,
     "metadata": {},
     "output_type": "execute_result"
    }
   ],
   "source": [
    "test_data.shape"
   ]
  },
  {
   "cell_type": "code",
   "execution_count": 51,
   "metadata": {},
   "outputs": [
    {
     "data": {
      "text/plain": [
       "Index(['power', 'cloud_cover', 'apparent_temperature', 'temperature',\n",
       "       'humidity', 'dew_point', 'wind_bearing', 'wind_speed', 'wind_chill',\n",
       "       'wind_gust', 'heat_index', 'pressure', 'qpf', 'uv_index', 'snow', 'pop',\n",
       "       'fctcode', 'ozone', 'precip_accumulation', 'precip_intensity',\n",
       "       'precip_probability', 'visibility', 'datetime_local_year',\n",
       "       'datetime_local_month', 'datetime_local_day', 'sunrise_year',\n",
       "       'sunrise_month', 'sunrise_day', 'sunrise_hour', 'sunrise_minute',\n",
       "       'sunrise_second', 'sunset_year', 'sunset_month', 'sunset_day',\n",
       "       'sunset_hour', 'sunset_minute', 'sunset_second', 'icon_clear-day',\n",
       "       'icon_clear-night', 'icon_cloudy', 'icon_fog', 'icon_partly-cloudy-day',\n",
       "       'icon_partly-cloudy-night', 'icon_rain', 'icon_wind',\n",
       "       'summary_Breezy and Foggy', 'summary_Clear', 'summary_Foggy',\n",
       "       'summary_Humid', 'summary_Humid and Foggy',\n",
       "       'summary_Humid and Mostly Cloudy', 'summary_Humid and Overcast',\n",
       "       'summary_Humid and Partly Cloudy', 'summary_Light Rain',\n",
       "       'summary_Light Rain and Humid', 'summary_Mostly Cloudy',\n",
       "       'summary_Overcast', 'summary_Partly Cloudy', 'summary_Possible Drizzle',\n",
       "       'summary_Possible Drizzle and Humid', 'summary_Possible Light Rain',\n",
       "       'summary_Possible Light Rain and Humid', 'summary_Rain',\n",
       "       'summary_Rain and Humid', 'precip_type_-9999', 'precip_type_rain'],\n",
       "      dtype='object')"
      ]
     },
     "execution_count": 51,
     "metadata": {},
     "output_type": "execute_result"
    }
   ],
   "source": [
    "data1.columns"
   ]
  },
  {
   "cell_type": "code",
   "execution_count": 52,
   "metadata": {},
   "outputs": [],
   "source": [
    "test_data[['icon_fog','icon_rain','icon_wind','precip_type_-9999','summary_Rain and Humid','summary_Rain','summary_Possible Light Rain and Humid','summary_Possible Light Rain','summary_Possible Drizzle and Humid','summary_Possible Drizzle','summary_Light Rain and Humid','summary_Light Rain','summary_Humid and Partly Cloudy','summary_Humid and Overcast','summary_Humid and Foggy','summary_Humid',\n",
    "'summary_Foggy','summary_Breezy and Foggy']]= data1[['icon_fog','icon_rain','icon_wind','precip_type_-9999','summary_Rain and Humid','summary_Rain','summary_Possible Light Rain and Humid','summary_Possible Light Rain','summary_Possible Drizzle and Humid','summary_Possible Drizzle','summary_Light Rain and Humid','summary_Light Rain','summary_Humid and Partly Cloudy','summary_Humid and Overcast','summary_Humid and Foggy','summary_Humid',\n",
    "'summary_Foggy','summary_Breezy and Foggy']]"
   ]
  },
  {
   "cell_type": "code",
   "execution_count": 53,
   "metadata": {},
   "outputs": [
    {
     "data": {
      "text/plain": [
       "(648, 65)"
      ]
     },
     "execution_count": 53,
     "metadata": {},
     "output_type": "execute_result"
    }
   ],
   "source": [
    "test_data.shape"
   ]
  },
  {
   "cell_type": "code",
   "execution_count": 54,
   "metadata": {},
   "outputs": [],
   "source": [
    "# predict on test data\n",
    "y_pred1 = rf_clf.predict(test_data)"
   ]
  },
  {
   "cell_type": "code",
   "execution_count": 55,
   "metadata": {},
   "outputs": [],
   "source": [
    "y_pred1 = pd.DataFrame(y_pred1)"
   ]
  },
  {
   "cell_type": "code",
   "execution_count": 56,
   "metadata": {},
   "outputs": [],
   "source": [
    "y_pred1.to_csv('C:\\\\Users\\\\Pratap\\\\Desktop\\\\New folder\\\\power.csv')"
   ]
  },
  {
   "cell_type": "code",
   "execution_count": null,
   "metadata": {},
   "outputs": [],
   "source": []
  }
 ],
 "metadata": {
  "kernelspec": {
   "display_name": "Python 3",
   "language": "python",
   "name": "python3"
  },
  "language_info": {
   "codemirror_mode": {
    "name": "ipython",
    "version": 3
   },
   "file_extension": ".py",
   "mimetype": "text/x-python",
   "name": "python",
   "nbconvert_exporter": "python",
   "pygments_lexer": "ipython3",
   "version": "3.7.4"
  }
 },
 "nbformat": 4,
 "nbformat_minor": 2
}
